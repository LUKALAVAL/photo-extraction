{
 "cells": [
  {
   "cell_type": "markdown",
   "metadata": {},
   "source": [
    "## Download the archives from Gallica"
   ]
  },
  {
   "cell_type": "code",
   "execution_count": null,
   "metadata": {},
   "outputs": [],
   "source": [
    "# Download the archives from Gallica\n",
    "\n",
    "# retrieve ark (ids) of 1940 issues from gallica.bnf.fr\n",
    "# https://gallica.bnf.fr/services/Issues?ark=ark:/12148/cb34419111x/date&date=1940\n",
    "\n",
    "import requests\n",
    "import shutil\n",
    "\n",
    "\n",
    "\n",
    "folder = \"./data/full_set/\"\n",
    "url_beg = \"https://openapi.bnf.fr/iiif/image/v3/ark:/12148/\"\n",
    "url_end = \"/full/max/0/default.jpg\"\n",
    "\n",
    "with open(\"data/ark\", 'r') as f:\n",
    "    ark_list = f.readlines()\n",
    "\n",
    "\n",
    "\n",
    "\n",
    "for ark in ark_list:\n",
    "    \n",
    "    ark = ark.replace('\\n','')\n",
    "\n",
    "    page = 1\n",
    "    while True:\n",
    "\n",
    "        url = url_beg + ark + \"/f\" + str(page) + url_end\n",
    "        file_name = folder + ark + \"_\" + str(page) + \".jpg\"\n",
    "\n",
    "        print(\"URL\", url)\n",
    "\n",
    "        res = requests.get(url, stream = True)\n",
    "\n",
    "        if res.status_code == 200:\n",
    "            with open(file_name,'wb') as f:\n",
    "                shutil.copyfileobj(res.raw, f)\n",
    "            print('Image sucessfully Downloaded: ',file_name)\n",
    "            page += 1\n",
    "        elif res.status_code == 500:\n",
    "            page = 1\n",
    "            break\n",
    "        else:\n",
    "            print('Image Couldn\\'t be retrieved')\n",
    "            break"
   ]
  },
  {
   "cell_type": "markdown",
   "metadata": {},
   "source": [
    "## Construct test set"
   ]
  },
  {
   "cell_type": "code",
   "execution_count": 7,
   "metadata": {},
   "outputs": [
    {
     "name": "stdout",
     "output_type": "stream",
     "text": [
      "['bpt6k683946d_1.jpg', 'bpt6k684144f_2.jpg', 'bpt6k6840219_1.jpg', 'bpt6k684205r_2.jpg', 'bpt6k6841945_4.jpg', 'bpt6k684016v_3.jpg', 'bpt6k684034s_1.jpg', 'bpt6k684089d_1.jpg', 'bpt6k684213b_4.jpg', 'bpt6k6841644_1.jpg', 'bpt6k6840020_3.jpg', 'bpt6k684207h_2.jpg', 'bpt6k684174g_4.jpg', 'bpt6k683956r_3.jpg', 'bpt6k683929v_2.jpg', 'bpt6k684020x_1.jpg', 'bpt6k683972x_5.jpg', 'bpt6k683951v_2.jpg', 'bpt6k6841508_2.jpg', 'bpt6k683926q_3.jpg', 'bpt6k683967g_4.jpg', 'bpt6k684171b_4.jpg', 'bpt6k683932j_5.jpg', 'bpt6k6840410_1.jpg', 'bpt6k684223p_3.jpg', 'bpt6k683990v_3.jpg', 'bpt6k6842064_3.jpg', 'bpt6k684037x_4.jpg', 'bpt6k6840177_1.jpg', 'bpt6k684100j_1.jpg', 'bpt6k6839786_3.jpg', 'bpt6k683946d_2.jpg', 'bpt6k683979k_4.jpg', 'bpt6k6839697_6.jpg', 'bpt6k6841555_4.jpg', 'bpt6k684171b_3.jpg', 'bpt6k683903w_4.jpg', 'bpt6k684067z_1.jpg', 'bpt6k6842187_2.jpg', 'bpt6k684196x_1.jpg', 'bpt6k683932j_6.jpg', 'bpt6k6842318_3.jpg', 'bpt6k684109z_1.jpg', 'bpt6k684207h_1.jpg', 'bpt6k6839930_1.jpg', 'bpt6k683997h_5.jpg', 'bpt6k684179c_4.jpg', 'bpt6k684093g_2.jpg', 'bpt6k684037x_2.jpg', 'bpt6k684025t_5.jpg']\n"
     ]
    }
   ],
   "source": [
    "# Select 50 files randomly from the full set\n",
    "\n",
    "import os\n",
    "import random\n",
    "\n",
    "folder = \"./data/full_set/\"\n",
    "file_list = os.listdir(folder)\n",
    "random_files = random.sample(file_list, 50)\n",
    "\n",
    "print(random_files)"
   ]
  },
  {
   "cell_type": "code",
   "execution_count": 4,
   "metadata": {},
   "outputs": [
    {
     "name": "stdout",
     "output_type": "stream",
     "text": [
      "test_folder is not empty\n",
      "['bpt6k683926q_1.jpg', 'bpt6k6839697_1.jpg', 'bpt6k684171b_2.jpg', 'bpt6k6841767_4.jpg', 'bpt6k684012b_4.jpg', 'bpt6k683930s_3.jpg', 'bpt6k6839137_2.jpg', 'bpt6k684153d_4.jpg', 'bpt6k6839451_4.jpg', 'bpt6k683951v_1.jpg', 'bpt6k684036j_4.jpg', 'bpt6k684003c_4.jpg', 'bpt6k684202m_4.jpg', 'bpt6k683926q_6.jpg', 'bpt6k6840609_4.jpg', 'bpt6k6841610_1.jpg', 'bpt6k684130k_2.jpg', 'bpt6k683928g_1.jpg', 'bpt6k6839150_1.jpg', 'bpt6k684165h_4.jpg', 'bpt6k683942w_1.jpg', 'bpt6k6839184_4.jpg', 'bpt6k684184t_4.jpg', 'bpt6k684189q_1.jpg', 'bpt6k684157x_2.jpg', 'bpt6k683976f_6.jpg', 'bpt6k6839451_1.jpg', 'bpt6k683914m_3.jpg', 'bpt6k684160m_4.jpg', 'bpt6k684016v_3.jpg', 'bpt6k684232n_2.jpg', 'bpt6k6841521_2.jpg', 'bpt6k6839095_2.jpg', 'bpt6k684018m_4.jpg', 'bpt6k6841644_4.jpg', 'bpt6k684153d_1.jpg', 'bpt6k6841780_2.jpg', 'bpt6k683903w_6.jpg', 'bpt6k683958h_1.jpg', 'bpt6k6841076_2.jpg', 'bpt6k683974p_1.jpg', 'bpt6k684006h_3.jpg', 'bpt6k683983n_5.jpg', 'bpt6k684123c_2.jpg', 'bpt6k684221x_1.jpg', 'bpt6k683997h_1.jpg', 'bpt6k6839663_4.jpg', 'bpt6k6841390_2.jpg', 'bpt6k6840478_2.jpg', 'bpt6k684112n_1.jpg']\n"
     ]
    }
   ],
   "source": [
    "# Copy the files from the list to the test set\n",
    "\n",
    "import shutil\n",
    "\n",
    "folder = \"./data/full_set/\"\n",
    "test_folder = \"./data/test_set/\"\n",
    "\n",
    "if os.listdir(test_folder):\n",
    "    print(\"test_folder is not empty\")\n",
    "    print(os.listdir(test_folder))\n",
    "else:\n",
    "    print(\"test_folder is empty\")\n",
    "    for file in random_files:\n",
    "        shutil.copy(folder + file, test_folder + file)\n",
    "        print(\"Copied\", file)"
   ]
  }
 ],
 "metadata": {
  "kernelspec": {
   "display_name": "base",
   "language": "python",
   "name": "python3"
  },
  "language_info": {
   "codemirror_mode": {
    "name": "ipython",
    "version": 3
   },
   "file_extension": ".py",
   "mimetype": "text/x-python",
   "name": "python",
   "nbconvert_exporter": "python",
   "pygments_lexer": "ipython3",
   "version": "3.8.5"
  }
 },
 "nbformat": 4,
 "nbformat_minor": 2
}
